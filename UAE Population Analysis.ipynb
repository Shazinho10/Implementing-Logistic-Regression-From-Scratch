{
 "cells": [
  {
   "cell_type": "code",
   "execution_count": 25,
   "id": "dcf37c76",
   "metadata": {},
   "outputs": [],
   "source": [
    "import pandas as pd\n",
    "import numpy as np\n",
    "import matplotlib.pyplot as plt\n",
    "%matplotlib inline"
   ]
  },
  {
   "cell_type": "markdown",
   "id": "4e624110",
   "metadata": {},
   "source": [
    "# Calling Data"
   ]
  },
  {
   "cell_type": "code",
   "execution_count": 26,
   "id": "e1ea22d5",
   "metadata": {},
   "outputs": [
    {
     "data": {
      "text/plain": [
       "Index(['Emirates_EN', 'Emirates_AR', 'Nationality_EN', 'Nationality_AR',\n",
       "       'sex_EN', 'sex_AR ', 'year ', 'value '],\n",
       "      dtype='object')"
      ]
     },
     "execution_count": 26,
     "metadata": {},
     "output_type": "execute_result"
    }
   ],
   "source": [
    "df = pd.read_csv('/Users/mac/Desktop/UAE Population.csv')\n",
    "df.columns"
   ]
  },
  {
   "cell_type": "code",
   "execution_count": 27,
   "id": "bd22aa8a",
   "metadata": {},
   "outputs": [
    {
     "data": {
      "text/plain": [
       "Index(['Emirates_EN', 'Emirates_AR', 'Nationality_EN', 'Nationality_AR',\n",
       "       'sex_EN', 'sex_AR ', 'year ', 'value '],\n",
       "      dtype='object')"
      ]
     },
     "execution_count": 27,
     "metadata": {},
     "output_type": "execute_result"
    }
   ],
   "source": [
    "df.columns"
   ]
  },
  {
   "cell_type": "markdown",
   "id": "9b74b406",
   "metadata": {},
   "source": [
    "# Data Cleaning"
   ]
  },
  {
   "cell_type": "markdown",
   "id": "e186cd40",
   "metadata": {},
   "source": [
    "Here I have called the csv from the specific directory. Now I will be cleaning the data."
   ]
  },
  {
   "cell_type": "code",
   "execution_count": 28,
   "id": "f130aad8",
   "metadata": {},
   "outputs": [],
   "source": [
    "#there were issues with the names of these two columns so I had to rename them.\n",
    "df.rename(columns={'year ':'year', 'value ': 'value', 'sex_AR ':'sex_AR', \n",
    "                   'sex_EN':'gender', 'Emirates_EN':'Emirates', 'Nationality_EN':'Nationality'}, inplace=True)"
   ]
  },
  {
   "cell_type": "markdown",
   "id": "9854121c",
   "metadata": {},
   "source": [
    "Now I have the dataframe which has been cleaned and the columns are renamed according to my convinience"
   ]
  },
  {
   "cell_type": "code",
   "execution_count": 29,
   "id": "66cba39c",
   "metadata": {},
   "outputs": [],
   "source": [
    "\"\"\"here I observed that the values inside the column df.values were in string format\n",
    "so I had to change them to integers and now I will create a new column which will have \n",
    "all of the integer values stored in it\"\"\"\n",
    "\n",
    "\n",
    "int_list = []\n",
    "for i in df.value:\n",
    "    x = int(i)\n",
    "    int_list.append(x)\n"
   ]
  },
  {
   "cell_type": "code",
   "execution_count": 30,
   "id": "520fc65c",
   "metadata": {},
   "outputs": [
    {
     "data": {
      "text/plain": [
       "numpy.int64"
      ]
     },
     "execution_count": 30,
     "metadata": {},
     "output_type": "execute_result"
    }
   ],
   "source": [
    "x = pd.Series(int_list)\n",
    "df['values'] = x\n",
    "df.drop(['value'], axis=1)\n",
    "\n",
    "type(x.iloc[9]) #checking if the elements have been converted into integers"
   ]
  },
  {
   "cell_type": "code",
   "execution_count": 31,
   "id": "38ce3e64",
   "metadata": {},
   "outputs": [
    {
     "data": {
      "text/html": [
       "<div>\n",
       "<style scoped>\n",
       "    .dataframe tbody tr th:only-of-type {\n",
       "        vertical-align: middle;\n",
       "    }\n",
       "\n",
       "    .dataframe tbody tr th {\n",
       "        vertical-align: top;\n",
       "    }\n",
       "\n",
       "    .dataframe thead th {\n",
       "        text-align: right;\n",
       "    }\n",
       "</style>\n",
       "<table border=\"1\" class=\"dataframe\">\n",
       "  <thead>\n",
       "    <tr style=\"text-align: right;\">\n",
       "      <th></th>\n",
       "      <th>Emirates</th>\n",
       "      <th>Nationality</th>\n",
       "      <th>gender</th>\n",
       "      <th>year</th>\n",
       "      <th>values</th>\n",
       "    </tr>\n",
       "  </thead>\n",
       "  <tbody>\n",
       "    <tr>\n",
       "      <th>0</th>\n",
       "      <td>Abu Dhabi</td>\n",
       "      <td>National</td>\n",
       "      <td>Male</td>\n",
       "      <td>1975</td>\n",
       "      <td>29200</td>\n",
       "    </tr>\n",
       "    <tr>\n",
       "      <th>1</th>\n",
       "      <td>Dubai</td>\n",
       "      <td>National</td>\n",
       "      <td>Male</td>\n",
       "      <td>1975</td>\n",
       "      <td>26100</td>\n",
       "    </tr>\n",
       "    <tr>\n",
       "      <th>2</th>\n",
       "      <td>Al Sharjah</td>\n",
       "      <td>National</td>\n",
       "      <td>Male</td>\n",
       "      <td>1975</td>\n",
       "      <td>21300</td>\n",
       "    </tr>\n",
       "    <tr>\n",
       "      <th>3</th>\n",
       "      <td>Ajman</td>\n",
       "      <td>National</td>\n",
       "      <td>Male</td>\n",
       "      <td>1975</td>\n",
       "      <td>3930</td>\n",
       "    </tr>\n",
       "    <tr>\n",
       "      <th>4</th>\n",
       "      <td>Umm Al - Quwain</td>\n",
       "      <td>National</td>\n",
       "      <td>Male</td>\n",
       "      <td>1975</td>\n",
       "      <td>2300</td>\n",
       "    </tr>\n",
       "  </tbody>\n",
       "</table>\n",
       "</div>"
      ],
      "text/plain": [
       "          Emirates Nationality gender  year  values\n",
       "0        Abu Dhabi    National   Male  1975   29200\n",
       "1            Dubai    National   Male  1975   26100\n",
       "2       Al Sharjah    National   Male  1975   21300\n",
       "3            Ajman    National   Male  1975    3930\n",
       "4  Umm Al - Quwain    National   Male  1975    2300"
      ]
     },
     "execution_count": 31,
     "metadata": {},
     "output_type": "execute_result"
    }
   ],
   "source": [
    "#Now I will be removing the unneccessary columns because we already have them in the English charachters we dont need them in arabic\n",
    "df2 = df.drop(['Emirates_AR', 'Nationality_AR', 'sex_AR','value'], axis=1)\n",
    "df2.head()"
   ]
  },
  {
   "cell_type": "markdown",
   "id": "e50a16ec",
   "metadata": {},
   "source": [
    "# Data Analysis Using Multiple Conditions and Statistical Methods"
   ]
  },
  {
   "cell_type": "markdown",
   "id": "16beba37",
   "metadata": {},
   "source": [
    "What is the average population of expats in UAE between the year 1975 and 1995?"
   ]
  },
  {
   "cell_type": "code",
   "execution_count": 32,
   "id": "cbde66f8",
   "metadata": {},
   "outputs": [
    {
     "data": {
      "text/html": [
       "<div>\n",
       "<style scoped>\n",
       "    .dataframe tbody tr th:only-of-type {\n",
       "        vertical-align: middle;\n",
       "    }\n",
       "\n",
       "    .dataframe tbody tr th {\n",
       "        vertical-align: top;\n",
       "    }\n",
       "\n",
       "    .dataframe thead th {\n",
       "        text-align: right;\n",
       "    }\n",
       "</style>\n",
       "<table border=\"1\" class=\"dataframe\">\n",
       "  <thead>\n",
       "    <tr style=\"text-align: right;\">\n",
       "      <th></th>\n",
       "      <th>Emirates</th>\n",
       "      <th>Nationality</th>\n",
       "      <th>gender</th>\n",
       "      <th>year</th>\n",
       "      <th>values</th>\n",
       "    </tr>\n",
       "  </thead>\n",
       "  <tbody>\n",
       "    <tr>\n",
       "      <th>14</th>\n",
       "      <td>Abu Dhabi</td>\n",
       "      <td>Non-National</td>\n",
       "      <td>Male</td>\n",
       "      <td>1975</td>\n",
       "      <td>126000</td>\n",
       "    </tr>\n",
       "    <tr>\n",
       "      <th>15</th>\n",
       "      <td>Dubai</td>\n",
       "      <td>Non-National</td>\n",
       "      <td>Male</td>\n",
       "      <td>1975</td>\n",
       "      <td>103000</td>\n",
       "    </tr>\n",
       "    <tr>\n",
       "      <th>16</th>\n",
       "      <td>Al Sharjah</td>\n",
       "      <td>Non-National</td>\n",
       "      <td>Male</td>\n",
       "      <td>1975</td>\n",
       "      <td>29900</td>\n",
       "    </tr>\n",
       "    <tr>\n",
       "      <th>17</th>\n",
       "      <td>Ajman</td>\n",
       "      <td>Non-National</td>\n",
       "      <td>Male</td>\n",
       "      <td>1975</td>\n",
       "      <td>6590</td>\n",
       "    </tr>\n",
       "    <tr>\n",
       "      <th>18</th>\n",
       "      <td>Umm Al - Quwain</td>\n",
       "      <td>Non-National</td>\n",
       "      <td>Male</td>\n",
       "      <td>1975</td>\n",
       "      <td>1960</td>\n",
       "    </tr>\n",
       "  </tbody>\n",
       "</table>\n",
       "</div>"
      ],
      "text/plain": [
       "           Emirates   Nationality gender  year  values\n",
       "14        Abu Dhabi  Non-National   Male  1975  126000\n",
       "15            Dubai  Non-National   Male  1975  103000\n",
       "16       Al Sharjah  Non-National   Male  1975   29900\n",
       "17            Ajman  Non-National   Male  1975    6590\n",
       "18  Umm Al - Quwain  Non-National   Male  1975    1960"
      ]
     },
     "execution_count": 32,
     "metadata": {},
     "output_type": "execute_result"
    }
   ],
   "source": [
    "df3 = df2.copy()\n",
    "df3 = df3[(df3['year'] <= 1995) & (df3['Nationality'] == 'Non-National')]\n",
    "df3.head() #this is the filtered dataframe, now I would be taking the average of the population"
   ]
  },
  {
   "cell_type": "code",
   "execution_count": 33,
   "id": "ce4689a2",
   "metadata": {},
   "outputs": [
    {
     "name": "stdout",
     "output_type": "stream",
     "text": [
      "The average population in UAE from 1975 to 1995 is : 67833.55714285714\n"
     ]
    }
   ],
   "source": [
    "#To know about the average population we will have to take average of the population.\n",
    "avg_population = np.mean(df['values'])\n",
    "print('The average population in UAE from 1975 to 1995 is :',avg_population)"
   ]
  },
  {
   "cell_type": "markdown",
   "id": "1cc72737",
   "metadata": {},
   "source": [
    "# Data Analysis Using Sorting Techniques"
   ]
  },
  {
   "cell_type": "markdown",
   "id": "503915ad",
   "metadata": {},
   "source": [
    "Here the data will be sorted in ascending or descending order"
   ]
  },
  {
   "cell_type": "raw",
   "id": "78b6d645",
   "metadata": {},
   "source": [
    "In which year were the most number of expats observed in Ajman?"
   ]
  },
  {
   "cell_type": "code",
   "execution_count": 34,
   "id": "57ad12a4",
   "metadata": {},
   "outputs": [
    {
     "data": {
      "text/html": [
       "<div>\n",
       "<style scoped>\n",
       "    .dataframe tbody tr th:only-of-type {\n",
       "        vertical-align: middle;\n",
       "    }\n",
       "\n",
       "    .dataframe tbody tr th {\n",
       "        vertical-align: top;\n",
       "    }\n",
       "\n",
       "    .dataframe thead th {\n",
       "        text-align: right;\n",
       "    }\n",
       "</style>\n",
       "<table border=\"1\" class=\"dataframe\">\n",
       "  <thead>\n",
       "    <tr style=\"text-align: right;\">\n",
       "      <th></th>\n",
       "      <th>Emirates</th>\n",
       "      <th>Nationality</th>\n",
       "      <th>gender</th>\n",
       "      <th>year</th>\n",
       "      <th>values</th>\n",
       "    </tr>\n",
       "  </thead>\n",
       "  <tbody>\n",
       "    <tr>\n",
       "      <th>129</th>\n",
       "      <td>Ajman</td>\n",
       "      <td>Non-National</td>\n",
       "      <td>Male</td>\n",
       "      <td>2005</td>\n",
       "      <td>112000</td>\n",
       "    </tr>\n",
       "    <tr>\n",
       "      <th>101</th>\n",
       "      <td>Ajman</td>\n",
       "      <td>Non-National</td>\n",
       "      <td>Male</td>\n",
       "      <td>1995</td>\n",
       "      <td>58000</td>\n",
       "    </tr>\n",
       "    <tr>\n",
       "      <th>136</th>\n",
       "      <td>Ajman</td>\n",
       "      <td>Non-National</td>\n",
       "      <td>female</td>\n",
       "      <td>2005</td>\n",
       "      <td>56200</td>\n",
       "    </tr>\n",
       "    <tr>\n",
       "      <th>108</th>\n",
       "      <td>Ajman</td>\n",
       "      <td>Non-National</td>\n",
       "      <td>female</td>\n",
       "      <td>1995</td>\n",
       "      <td>34700</td>\n",
       "    </tr>\n",
       "    <tr>\n",
       "      <th>73</th>\n",
       "      <td>Ajman</td>\n",
       "      <td>Non-National</td>\n",
       "      <td>Male</td>\n",
       "      <td>1985</td>\n",
       "      <td>23000</td>\n",
       "    </tr>\n",
       "  </tbody>\n",
       "</table>\n",
       "</div>"
      ],
      "text/plain": [
       "    Emirates   Nationality   gender  year  values\n",
       "129    Ajman  Non-National     Male  2005  112000\n",
       "101    Ajman  Non-National     Male  1995   58000\n",
       "136    Ajman  Non-National  female   2005   56200\n",
       "108    Ajman  Non-National  female   1995   34700\n",
       "73     Ajman  Non-National     Male  1985   23000"
      ]
     },
     "execution_count": 34,
     "metadata": {},
     "output_type": "execute_result"
    }
   ],
   "source": [
    "df4 = df2[df2['Emirates'] == 'Ajman']\n",
    "df4 = df4.sort_values(by=['values'], ascending=False)\n",
    "df4.head()"
   ]
  },
  {
   "cell_type": "code",
   "execution_count": 35,
   "id": "91ea3657",
   "metadata": {},
   "outputs": [
    {
     "name": "stdout",
     "output_type": "stream",
     "text": [
      "The year with most number of expats was: 2005\n"
     ]
    }
   ],
   "source": [
    "print('The year with most number of expats was:', df4.year.iloc[0])"
   ]
  },
  {
   "cell_type": "markdown",
   "id": "117834fc",
   "metadata": {},
   "source": [
    "# Data Analysis Using Combination of Techniques"
   ]
  },
  {
   "cell_type": "markdown",
   "id": "03875820",
   "metadata": {},
   "source": [
    "In which year the maximum male population of expats was observed in UAE?"
   ]
  },
  {
   "cell_type": "code",
   "execution_count": 36,
   "id": "dde8adfa",
   "metadata": {},
   "outputs": [],
   "source": [
    "df5 = df2[(df2['Nationality'] == 'Non-National') & (df2['gender'] == 'Male')]"
   ]
  },
  {
   "cell_type": "code",
   "execution_count": 37,
   "id": "1bbf2f91",
   "metadata": {},
   "outputs": [
    {
     "data": {
      "text/plain": [
       "array(['Abu Dhabi', 'Dubai', 'Al Sharjah', 'Ajman', 'Umm Al - Quwain',\n",
       "       'Ras Al Khaima', 'Al Fujairah'], dtype=object)"
      ]
     },
     "execution_count": 37,
     "metadata": {},
     "output_type": "execute_result"
    }
   ],
   "source": [
    "df.Emirates.unique()"
   ]
  },
  {
   "cell_type": "code",
   "execution_count": 38,
   "id": "1a0da7dc",
   "metadata": {},
   "outputs": [
    {
     "name": "stdout",
     "output_type": "stream",
     "text": [
      "2005\n"
     ]
    }
   ],
   "source": [
    "#max expats in Ajman\n",
    "ajman = df5[df5['Emirates'] == 'Ajman'].sort_values(by='values', ascending=False)\n",
    "print(ajman['year'].iloc[ajman['values'].argmax()])"
   ]
  },
  {
   "cell_type": "code",
   "execution_count": 39,
   "id": "d0c6177f",
   "metadata": {},
   "outputs": [
    {
     "name": "stdout",
     "output_type": "stream",
     "text": [
      "2005\n"
     ]
    }
   ],
   "source": [
    "#max expats in Dubai\n",
    "Dubai = df5[df5['Emirates'] == 'Dubai'].sort_values(by='values', ascending=False)\n",
    "print(Dubai['year'].iloc[Dubai['values'].argmax()])"
   ]
  },
  {
   "cell_type": "code",
   "execution_count": 40,
   "id": "661e6fad",
   "metadata": {},
   "outputs": [
    {
     "name": "stdout",
     "output_type": "stream",
     "text": [
      "2005\n"
     ]
    }
   ],
   "source": [
    "#max expats in Al Sharjah\n",
    "sharjah = df5[df5['Emirates'] == 'Al Sharjah'].sort_values(by='values', ascending=False)\n",
    "print(sharjah['year'].iloc[sharjah['values'].argmax()])"
   ]
  },
  {
   "cell_type": "code",
   "execution_count": 41,
   "id": "cc0c05be",
   "metadata": {},
   "outputs": [
    {
     "name": "stdout",
     "output_type": "stream",
     "text": [
      "2005\n"
     ]
    }
   ],
   "source": [
    "#max expats in Abu Dhabi\n",
    "abudhabi = df5[df5['Emirates'] == 'Abu Dhabi'].sort_values(by='values', ascending=False)\n",
    "print(abudhabi['year'].iloc[abudhabi['values'].argmax()])"
   ]
  },
  {
   "cell_type": "code",
   "execution_count": 42,
   "id": "33e8aeca",
   "metadata": {},
   "outputs": [
    {
     "name": "stdout",
     "output_type": "stream",
     "text": [
      "2005\n"
     ]
    }
   ],
   "source": [
    "#max expats in Umm Al - Quwain'\n",
    "quwain = df5[df5['Emirates'] == 'Umm Al - Quwain'].sort_values(by='values', ascending=False)\n",
    "print(quwain['year'].iloc[quwain['values'].argmax()])"
   ]
  },
  {
   "cell_type": "code",
   "execution_count": 43,
   "id": "371360e5",
   "metadata": {},
   "outputs": [
    {
     "name": "stdout",
     "output_type": "stream",
     "text": [
      "2005\n"
     ]
    }
   ],
   "source": [
    "#max expats in Ras Al Khaima\n",
    "kahima = df5[df5['Emirates'] == 'Ras Al Khaima'].sort_values(by='values', ascending=False)\n",
    "print(kahima['year'].iloc[kahima['values'].argmax()])"
   ]
  },
  {
   "cell_type": "code",
   "execution_count": 44,
   "id": "5fc1ea8e",
   "metadata": {},
   "outputs": [
    {
     "name": "stdout",
     "output_type": "stream",
     "text": [
      "2005\n"
     ]
    }
   ],
   "source": [
    "#max expats in Al Fujairah\n",
    "fajirah = df5[df5['Emirates'] == 'Al Fujairah'].sort_values(by='values', ascending=False)\n",
    "print(fajirah['year'].iloc[fajirah['values'].argmax()])"
   ]
  },
  {
   "cell_type": "markdown",
   "id": "b766f58a",
   "metadata": {},
   "source": [
    "Conclusion:\n",
    "Here we have seen that all of the states in UAE have had the maximum number of expats in the year 2005"
   ]
  },
  {
   "cell_type": "markdown",
   "id": "1497a44f",
   "metadata": {},
   "source": [
    "# Data Analysis With Groupby"
   ]
  },
  {
   "cell_type": "markdown",
   "id": "6858a7db",
   "metadata": {},
   "source": [
    "Find the average population of National of both genders in all of the Emirates"
   ]
  },
  {
   "cell_type": "code",
   "execution_count": 45,
   "id": "8b2449e5",
   "metadata": {},
   "outputs": [],
   "source": [
    "df6 = df2.copy()\n",
    "df6 = df6.drop(columns=['year'])\n",
    "df6 = df6[df6['Nationality'] == 'National']"
   ]
  },
  {
   "cell_type": "code",
   "execution_count": 46,
   "id": "91c535bd",
   "metadata": {},
   "outputs": [
    {
     "data": {
      "text/html": [
       "<div>\n",
       "<style scoped>\n",
       "    .dataframe tbody tr th:only-of-type {\n",
       "        vertical-align: middle;\n",
       "    }\n",
       "\n",
       "    .dataframe tbody tr th {\n",
       "        vertical-align: top;\n",
       "    }\n",
       "\n",
       "    .dataframe thead th {\n",
       "        text-align: right;\n",
       "    }\n",
       "</style>\n",
       "<table border=\"1\" class=\"dataframe\">\n",
       "  <thead>\n",
       "    <tr style=\"text-align: right;\">\n",
       "      <th></th>\n",
       "      <th>values</th>\n",
       "    </tr>\n",
       "    <tr>\n",
       "      <th>gender</th>\n",
       "      <th></th>\n",
       "    </tr>\n",
       "  </thead>\n",
       "  <tbody>\n",
       "    <tr>\n",
       "      <th>Male</th>\n",
       "      <td>33492.571429</td>\n",
       "    </tr>\n",
       "    <tr>\n",
       "      <th>female</th>\n",
       "      <td>32221.714286</td>\n",
       "    </tr>\n",
       "  </tbody>\n",
       "</table>\n",
       "</div>"
      ],
      "text/plain": [
       "               values\n",
       "gender               \n",
       "Male     33492.571429\n",
       "female   32221.714286"
      ]
     },
     "execution_count": 46,
     "metadata": {},
     "output_type": "execute_result"
    }
   ],
   "source": [
    "df6.groupby(['gender']).mean()"
   ]
  },
  {
   "cell_type": "markdown",
   "id": "9e375ae5",
   "metadata": {},
   "source": [
    "# Data Visualisation"
   ]
  },
  {
   "cell_type": "code",
   "execution_count": 47,
   "id": "687edff3",
   "metadata": {},
   "outputs": [
    {
     "data": {
      "text/plain": [
       "array([1975, 1980, 1985, 1995, 2005])"
      ]
     },
     "execution_count": 47,
     "metadata": {},
     "output_type": "execute_result"
    }
   ],
   "source": [
    "df.year.unique()"
   ]
  },
  {
   "cell_type": "code",
   "execution_count": 48,
   "id": "954280ae",
   "metadata": {},
   "outputs": [],
   "source": [
    "p_1975 = df2[df2.year == 1975]['values'].mean()\n",
    "p_1980 = df2[df2.year == 1980]['values'].mean()\n",
    "p_1985 = df2[df2.year == 1985]['values'].mean()\n",
    "p_1995 = df2[df2.year == 1995]['values'].mean()\n",
    "p_2005 = df2[df2.year == 2005]['values'].mean()"
   ]
  },
  {
   "cell_type": "code",
   "execution_count": 49,
   "id": "b246d280",
   "metadata": {
    "scrolled": true
   },
   "outputs": [
    {
     "data": {
      "text/plain": [
       "Text(0, 0.5, 'avg_population')"
      ]
     },
     "execution_count": 49,
     "metadata": {},
     "output_type": "execute_result"
    },
    {
     "data": {
      "image/png": "[encoded data removed]",
      "text/plain": [
       "<Figure size 432x288 with 1 Axes>"
      ]
     },
     "metadata": {
      "needs_background": "light"
     },
     "output_type": "display_data"
    }
   ],
   "source": [
    "y = [p_1975, p_1980, p_1985, p_1995, p_2005]\n",
    "x = [1975, 1980, 1985, 1995, 2005]\n",
    "\n",
    "\n",
    "plt.plot(x,y)\n",
    "plt.xlabel('year')\n",
    "plt.ylabel('avg_population')"
   ]
  },
  {
   "cell_type": "markdown",
   "id": "2bb044a8",
   "metadata": {},
   "source": [
    "Here we can see that the average population has been increased in UAE with the passage of time"
   ]
  },
  {
   "cell_type": "code",
   "execution_count": 50,
   "id": "cc32ed77",
   "metadata": {},
   "outputs": [
    {
     "data": {
      "text/plain": [
       "<AxesSubplot:xlabel='Nationality', ylabel='count'>"
      ]
     },
     "execution_count": 50,
     "metadata": {},
     "output_type": "execute_result"
    },
    {
     "data": {
      "image/png": "[encoded data removed]",
      "text/plain": [
       "<Figure size 432x288 with 1 Axes>"
      ]
     },
     "metadata": {
      "needs_background": "light"
     },
     "output_type": "display_data"
    }
   ],
   "source": [
    "pop_2K5 = df2[df2[\"year\"] == 2005]\n",
    "import seaborn as sns\n",
    "sns.countplot(x='Nationality', hue='gender', data=pop_2K5)"
   ]
  },
  {
   "cell_type": "markdown",
   "id": "e514c4f9",
   "metadata": {},
   "source": [
    "Overall population of UAE"
   ]
  },
  {
   "cell_type": "markdown",
   "id": "fb9e813f",
   "metadata": {},
   "source": [
    "Find the population in UAE with respect to each state"
   ]
  },
  {
   "cell_type": "code",
   "execution_count": 51,
   "id": "83ab512f",
   "metadata": {},
   "outputs": [],
   "source": [
    "pop_80 = df2[df2[\"year\"] == 1980] #% population of each state in 1980"
   ]
  },
  {
   "cell_type": "code",
   "execution_count": 52,
   "id": "94c75b68",
   "metadata": {},
   "outputs": [
    {
     "data": {
      "image/png": "[encoded data removed]",
      "text/plain": [
       "<Figure size 864x576 with 1 Axes>"
      ]
     },
     "metadata": {},
     "output_type": "display_data"
    }
   ],
   "source": [
    "pop_80[\"Emirates\"].value_counts()[:10].plot.pie(figsize=(12,8),autopct=\"%1.1f%%\")\n",
    "plt.title(\"Emirates %\",fontsize=18)\n",
    "plt.show()"
   ]
  },
  {
   "cell_type": "code",
   "execution_count": 53,
   "id": "24abdc41",
   "metadata": {},
   "outputs": [
    {
     "data": {
      "text/plain": [
       "<bound method DataFrame.value_counts of            Emirates   Nationality   gender  year  values\n",
       "28        Abu Dhabi      National     Male  1980   48000\n",
       "29            Dubai      National     Male  1980   32200\n",
       "30       Al Sharjah      National     Male  1980   30900\n",
       "31            Ajman      National     Male  1980    6870\n",
       "32  Umm Al - Quwain      National     Male  1980    2960\n",
       "33    Ras Al Khaima      National     Male  1980   20100\n",
       "34      Al Fujairah      National     Male  1980    9480\n",
       "35        Abu Dhabi      National  female   1980   42800\n",
       "36            Dubai      National  female   1980   30300\n",
       "37       Al Sharjah      National  female   1980   29600\n",
       "38            Ajman      National  female   1980    6510\n",
       "39  Umm Al - Quwain      National  female   1980    2890\n",
       "40    Ras Al Khaima      National  female   1980   19000\n",
       "41      Al Fujairah      National  female   1980    8890\n",
       "42        Abu Dhabi  Non-National     Male  1980  284000\n",
       "43            Dubai  Non-National     Male  1980  156000\n",
       "44       Al Sharjah  Non-National     Male  1980   71800\n",
       "45            Ajman  Non-National     Male  1980   15400\n",
       "46  Umm Al - Quwain  Non-National     Male  1980    5000\n",
       "47    Ras Al Khaima  Non-National     Male  1980   26400\n",
       "48      Al Fujairah  Non-National     Male  1980   11300\n",
       "49        Abu Dhabi  Non-National  female   1980   77400\n",
       "50            Dubai  Non-National  female   1980   58300\n",
       "51       Al Sharjah  Non-National  female   1980   27000\n",
       "52            Ajman  Non-National  female   1980    7350\n",
       "53  Umm Al - Quwain  Non-National  female   1980    1580\n",
       "54    Ras Al Khaima  Non-National  female   1980    8360\n",
       "55      Al Fujairah  Non-National  female   1980    2510>"
      ]
     },
     "execution_count": 53,
     "metadata": {},
     "output_type": "execute_result"
    }
   ],
   "source": [
    "pop_80.value_counts"
   ]
  },
  {
   "cell_type": "code",
   "execution_count": 54,
   "id": "cf5ea5ac",
   "metadata": {},
   "outputs": [],
   "source": [
    "pop_05 = df2[df2[\"year\"] == 2005] # % population of each state in 2005"
   ]
  },
  {
   "cell_type": "code",
   "execution_count": 55,
   "id": "c0b1ad7b",
   "metadata": {},
   "outputs": [
    {
     "data": {
      "image/png": "[encoded data removed]",
      "text/plain": [
       "<Figure size 864x576 with 1 Axes>"
      ]
     },
     "metadata": {},
     "output_type": "display_data"
    }
   ],
   "source": [
    "pop_05[\"Emirates\"].value_counts()[:10].plot.pie(figsize=(12,8),autopct=\"%1.1f%%\")\n",
    "plt.title(\"Emirates %\",fontsize=18)\n",
    "plt.show()"
   ]
  },
  {
   "cell_type": "code",
   "execution_count": null,
   "id": "516474e2",
   "metadata": {},
   "outputs": [],
   "source": []
  }
 ],
 "metadata": {
  "kernelspec": {
   "display_name": "Python 3",
   "language": "python",
   "name": "python3"
  },
  "language_info": {
   "codemirror_mode": {
    "name": "ipython",
    "version": 3
   },
   "file_extension": ".py",
   "mimetype": "text/x-python",
   "name": "python",
   "nbconvert_exporter": "python",
   "pygments_lexer": "ipython3",
   "version": "3.6.13"
  }
 },
 "nbformat": 4,
 "nbformat_minor": 5
}
