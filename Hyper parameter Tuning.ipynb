{
 "cells": [
  {
   "cell_type": "code",
   "execution_count": 1,
   "id": "7357ef04",
   "metadata": {},
   "outputs": [],
   "source": [
    "import numpy as np\n",
    "import matplotlib.pyplot as plt\n",
    "import pandas as pd"
   ]
  },
  {
   "cell_type": "code",
   "execution_count": 2,
   "id": "e5959f6c",
   "metadata": {},
   "outputs": [],
   "source": [
    "from sklearn.datasets import load_iris"
   ]
  },
  {
   "cell_type": "code",
   "execution_count": 3,
   "id": "cafa395e",
   "metadata": {},
   "outputs": [
    {
     "data": {
      "text/plain": [
       "dict_keys(['data', 'target', 'frame', 'target_names', 'DESCR', 'feature_names', 'filename'])"
      ]
     },
     "execution_count": 3,
     "metadata": {},
     "output_type": "execute_result"
    }
   ],
   "source": [
    "iris = load_iris()\n",
    "iris.keys()"
   ]
  },
  {
   "cell_type": "code",
   "execution_count": 4,
   "id": "fe47ca3e",
   "metadata": {},
   "outputs": [],
   "source": [
    "from sklearn.svm import SVC\n",
    "from sklearn.model_selection import cross_val_score"
   ]
  },
  {
   "cell_type": "code",
   "execution_count": 19,
   "id": "98cb85da",
   "metadata": {},
   "outputs": [],
   "source": [
    "avg_score = {}\n",
    "kernels = ['rbf', 'linear']\n",
    "Cs = range(1,10)\n",
    "for k in kernels:\n",
    "    for cval in Cs:\n",
    "        score = cross_val_score(SVC(kernel=k, C=cval, gamma='auto'), iris.data, iris.target, cv=3)\n",
    "        avg_score[k+'_'+str(cval)] = np.mean(score)"
   ]
  },
  {
   "cell_type": "code",
   "execution_count": 20,
   "id": "1a755efa",
   "metadata": {},
   "outputs": [
    {
     "data": {
      "text/plain": [
       "{'rbf_1': 0.9733333333333333,\n",
       " 'rbf_2': 0.9733333333333333,\n",
       " 'rbf_3': 0.9733333333333333,\n",
       " 'rbf_4': 0.9866666666666667,\n",
       " 'rbf_5': 0.98,\n",
       " 'rbf_6': 0.98,\n",
       " 'rbf_7': 0.98,\n",
       " 'rbf_8': 0.98,\n",
       " 'rbf_9': 0.98,\n",
       " 'linear_1': 0.9933333333333333,\n",
       " 'linear_2': 0.9933333333333333,\n",
       " 'linear_3': 0.9666666666666667,\n",
       " 'linear_4': 0.9666666666666667,\n",
       " 'linear_5': 0.9733333333333333,\n",
       " 'linear_6': 0.9733333333333333,\n",
       " 'linear_7': 0.9666666666666667,\n",
       " 'linear_8': 0.9666666666666667,\n",
       " 'linear_9': 0.9666666666666667}"
      ]
     },
     "execution_count": 20,
     "metadata": {},
     "output_type": "execute_result"
    }
   ],
   "source": [
    "avg_score"
   ]
  },
  {
   "cell_type": "code",
   "execution_count": 10,
   "id": "505710ee",
   "metadata": {},
   "outputs": [],
   "source": [
    "from sklearn.model_selection import GridSearchCV\n",
    "model_score = GridSearchCV(SVC(gamma='auto'), {\n",
    "    'C': range(1,10),\n",
    "    'kernel':['linear', 'rbf']\n",
    "}, cv=5, return_train_score=False)"
   ]
  },
  {
   "cell_type": "code",
   "execution_count": 14,
   "id": "5f24a39b",
   "metadata": {},
   "outputs": [
    {
     "data": {
      "text/plain": [
       "{'mean_fit_time': array([0.00100412, 0.00111189, 0.00069394, 0.0008739 , 0.00061841,\n",
       "        0.00081825, 0.00077567, 0.00078626, 0.00062041, 0.00072422,\n",
       "        0.00059042, 0.00074058, 0.00056686, 0.00064335, 0.00053482,\n",
       "        0.00066261, 0.00053821, 0.00063462]),\n",
       " 'std_fit_time': array([1.66011841e-04, 1.45560086e-04, 3.97215943e-05, 6.90129501e-05,\n",
       "        1.25639126e-05, 6.16135609e-05, 9.26512636e-05, 4.31621659e-05,\n",
       "        1.59931780e-05, 2.60117183e-05, 5.46191103e-05, 3.32507683e-05,\n",
       "        3.50242005e-05, 3.31038337e-05, 1.29251899e-05, 2.56414277e-05,\n",
       "        2.17646783e-05, 1.03786321e-05]),\n",
       " 'mean_score_time': array([0.00048504, 0.00065422, 0.00035677, 0.00055575, 0.00032492,\n",
       "        0.00045056, 0.00042119, 0.0004427 , 0.00032563, 0.00041156,\n",
       "        0.00029826, 0.00039859, 0.00029736, 0.00035782, 0.00027499,\n",
       "        0.00036988, 0.00027533, 0.00038414]),\n",
       " 'std_score_time': array([9.98523196e-05, 5.18302470e-05, 1.79974288e-05, 6.48384575e-05,\n",
       "        3.03607128e-06, 1.74553665e-05, 7.24446691e-05, 1.89637364e-05,\n",
       "        4.89170784e-06, 1.37188296e-05, 9.05990601e-06, 1.76025908e-05,\n",
       "        1.85754851e-05, 7.99381622e-06, 2.34378924e-06, 1.37826562e-05,\n",
       "        3.60445999e-06, 5.38326555e-05]),\n",
       " 'param_C': masked_array(data=[1, 1, 2, 2, 3, 3, 4, 4, 5, 5, 6, 6, 7, 7, 8, 8, 9, 9],\n",
       "              mask=[False, False, False, False, False, False, False, False,\n",
       "                    False, False, False, False, False, False, False, False,\n",
       "                    False, False],\n",
       "        fill_value='?',\n",
       "             dtype=object),\n",
       " 'param_kernel': masked_array(data=['linear', 'rbf', 'linear', 'rbf', 'linear', 'rbf',\n",
       "                    'linear', 'rbf', 'linear', 'rbf', 'linear', 'rbf',\n",
       "                    'linear', 'rbf', 'linear', 'rbf', 'linear', 'rbf'],\n",
       "              mask=[False, False, False, False, False, False, False, False,\n",
       "                    False, False, False, False, False, False, False, False,\n",
       "                    False, False],\n",
       "        fill_value='?',\n",
       "             dtype=object),\n",
       " 'params': [{'C': 1, 'kernel': 'linear'},\n",
       "  {'C': 1, 'kernel': 'rbf'},\n",
       "  {'C': 2, 'kernel': 'linear'},\n",
       "  {'C': 2, 'kernel': 'rbf'},\n",
       "  {'C': 3, 'kernel': 'linear'},\n",
       "  {'C': 3, 'kernel': 'rbf'},\n",
       "  {'C': 4, 'kernel': 'linear'},\n",
       "  {'C': 4, 'kernel': 'rbf'},\n",
       "  {'C': 5, 'kernel': 'linear'},\n",
       "  {'C': 5, 'kernel': 'rbf'},\n",
       "  {'C': 6, 'kernel': 'linear'},\n",
       "  {'C': 6, 'kernel': 'rbf'},\n",
       "  {'C': 7, 'kernel': 'linear'},\n",
       "  {'C': 7, 'kernel': 'rbf'},\n",
       "  {'C': 8, 'kernel': 'linear'},\n",
       "  {'C': 8, 'kernel': 'rbf'},\n",
       "  {'C': 9, 'kernel': 'linear'},\n",
       "  {'C': 9, 'kernel': 'rbf'}],\n",
       " 'split0_test_score': array([0.96666667, 0.96666667, 0.96666667, 0.96666667, 0.96666667,\n",
       "        0.96666667, 0.96666667, 0.96666667, 1.        , 0.96666667,\n",
       "        1.        , 0.96666667, 1.        , 0.96666667, 1.        ,\n",
       "        0.96666667, 1.        , 0.96666667]),\n",
       " 'split1_test_score': array([1., 1., 1., 1., 1., 1., 1., 1., 1., 1., 1., 1., 1., 1., 1., 1., 1.,\n",
       "        1.]),\n",
       " 'split2_test_score': array([0.96666667, 0.96666667, 0.96666667, 0.96666667, 0.93333333,\n",
       "        0.93333333, 0.93333333, 1.        , 0.93333333, 0.96666667,\n",
       "        0.9       , 0.96666667, 0.9       , 0.96666667, 0.9       ,\n",
       "        0.96666667, 0.9       , 0.96666667]),\n",
       " 'split3_test_score': array([0.96666667, 0.96666667, 0.96666667, 0.96666667, 0.96666667,\n",
       "        0.96666667, 0.96666667, 0.96666667, 0.96666667, 0.96666667,\n",
       "        0.96666667, 0.96666667, 0.96666667, 0.96666667, 0.96666667,\n",
       "        0.96666667, 0.96666667, 0.96666667]),\n",
       " 'split4_test_score': array([1., 1., 1., 1., 1., 1., 1., 1., 1., 1., 1., 1., 1., 1., 1., 1., 1.,\n",
       "        1.]),\n",
       " 'mean_test_score': array([0.98      , 0.98      , 0.98      , 0.98      , 0.97333333,\n",
       "        0.97333333, 0.97333333, 0.98666667, 0.98      , 0.98      ,\n",
       "        0.97333333, 0.98      , 0.97333333, 0.98      , 0.97333333,\n",
       "        0.98      , 0.97333333, 0.98      ]),\n",
       " 'std_test_score': array([0.01632993, 0.01632993, 0.01632993, 0.01632993, 0.02494438,\n",
       "        0.02494438, 0.02494438, 0.01632993, 0.02666667, 0.01632993,\n",
       "        0.03887301, 0.01632993, 0.03887301, 0.01632993, 0.03887301,\n",
       "        0.01632993, 0.03887301, 0.01632993]),\n",
       " 'rank_test_score': array([ 2,  2,  2,  2, 12, 12, 12,  1,  2,  2, 12,  2, 12,  2, 12,  2, 12,\n",
       "         2], dtype=int32)}"
      ]
     },
     "execution_count": 14,
     "metadata": {},
     "output_type": "execute_result"
    }
   ],
   "source": [
    "model_score.fit(iris.data, iris.target)\n",
    "model_score.cv_results_"
   ]
  },
  {
   "cell_type": "code",
   "execution_count": 15,
   "id": "5f166844",
   "metadata": {},
   "outputs": [
    {
     "data": {
      "text/plain": [
       "{'C': 4, 'kernel': 'rbf'}"
      ]
     },
     "execution_count": 15,
     "metadata": {},
     "output_type": "execute_result"
    }
   ],
   "source": [
    "model_score.best_params_"
   ]
  },
  {
   "cell_type": "code",
   "execution_count": 17,
   "id": "19923772",
   "metadata": {},
   "outputs": [
    {
     "data": {
      "text/plain": [
       "0.9866666666666667"
      ]
     },
     "execution_count": 17,
     "metadata": {},
     "output_type": "execute_result"
    }
   ],
   "source": [
    "model_score.best_score_"
   ]
  },
  {
   "cell_type": "code",
   "execution_count": null,
   "id": "7c72803c",
   "metadata": {},
   "outputs": [],
   "source": []
  }
 ],
 "metadata": {
  "kernelspec": {
   "display_name": "Python 3",
   "language": "python",
   "name": "python3"
  },
  "language_info": {
   "codemirror_mode": {
    "name": "ipython",
    "version": 3
   },
   "file_extension": ".py",
   "mimetype": "text/x-python",
   "name": "python",
   "nbconvert_exporter": "python",
   "pygments_lexer": "ipython3",
   "version": "3.6.13"
  }
 },
 "nbformat": 4,
 "nbformat_minor": 5
}
